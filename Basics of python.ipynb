{
 "cells": [
  {
   "cell_type": "markdown",
   "id": "9d1c615a-c244-42da-956b-dc8b36abe43e",
   "metadata": {},
   "source": [
    "Exercise 1: Prime Numbers\n",
    "\r\n",
    "Write a Python program that checks whether a given number is prime or not. A prime number is a natural number greater than 1 that has no positive divisors other than 1 and itself.\r\n"
   ]
  },
  {
   "cell_type": "code",
   "execution_count": 3,
   "id": "4640987b-9392-4520-b521-16e66763aad4",
   "metadata": {},
   "outputs": [
    {
     "name": "stdin",
     "output_type": "stream",
     "text": [
      "Enter a number to check if it's prime:  67\n"
     ]
    },
    {
     "name": "stdout",
     "output_type": "stream",
     "text": [
      "67 is a prime number.\n"
     ]
    }
   ],
   "source": [
    "def if_prime(n):\n",
    "    if n <= 1:\n",
    "        return False\n",
    "    for i in range(2, int(n**0.5) + 1):\n",
    "        if n % i == 0:\n",
    "            return False\n",
    "    return True\n",
    "\n",
    "num = int(input(\"Enter a number to check if it's prime: \"))\n",
    "if if_prime(num):\n",
    "    print(f\"{num} is a prime number.\")\n",
    "else:\n",
    "    print(f\"{num} is not a prime number.\")"
   ]
  },
  {
   "cell_type": "markdown",
   "id": "df1eafcf-82f3-4321-8115-5bb26c9f2dd6",
   "metadata": {},
   "source": [
    "Exercise 2: Product of Random Numbers\n",
    "\r\n",
    "Develop a Python program that generates two random numbers and asks the user to enter the product of these numbers. The program should then check if the user's answer is correct and display an appropriate message.\r\n",
    "\n"
   ]
  },
  {
   "cell_type": "code",
   "execution_count": 5,
   "id": "b606470a-3493-452f-b96b-e932056f6ca0",
   "metadata": {},
   "outputs": [
    {
     "name": "stdin",
     "output_type": "stream",
     "text": [
      "What is the product of 2 and 72?  144\n"
     ]
    },
    {
     "name": "stdout",
     "output_type": "stream",
     "text": [
      "Congratulations! Your answer is correct.\n"
     ]
    }
   ],
   "source": [
    "import random\n",
    "\n",
    "def generate_numbers():\n",
    "    \n",
    "    num1 = random.randint(1, 100)\n",
    "    num2 = random.randint(1, 100)\n",
    "    return num1, num2\n",
    "\n",
    "def main():\n",
    "    num1, num2 = generate_numbers()\n",
    "    \n",
    "    correct_product = num1 * num2\n",
    "    \n",
    "    \n",
    "    user_product = int(input(f\"What is the product of {num1} and {num2}? \"))\n",
    "    \n",
    "\n",
    "    if user_product == correct_product:\n",
    "        print(\"Congratulations! Your answer is correct.\")\n",
    "    else:\n",
    "        print(f\"Sorry, the correct answer is {correct_product}.\")\n",
    "if __name__ == \"__main__\":\n",
    "    main()\n",
    "        \n",
    "\n"
   ]
  },
  {
   "cell_type": "markdown",
   "id": "2df00c46-60cb-4e52-967e-f7a4694b2f9c",
   "metadata": {},
   "source": [
    "Exercise 3: Squares of Even/Odd Numbers\n",
    "\n",
    "Create a Python script that prints the squares of all even or odd numbers within the range of 100 to 200. Choose either even or odd numbers and document your choice in the code.\n"
   ]
  },
  {
   "cell_type": "code",
   "execution_count": 2,
   "id": "055b2657-a800-4ad0-8ec3-abc15073dc6f",
   "metadata": {},
   "outputs": [
    {
     "name": "stdout",
     "output_type": "stream",
     "text": [
      "The square of the even number 100 is 10000\n",
      "The square of the odd numner 101 is 10201\n",
      "The square of the even number 102 is 10404\n",
      "The square of the odd numner 103 is 10609\n",
      "The square of the even number 104 is 10816\n",
      "The square of the odd numner 105 is 11025\n",
      "The square of the even number 106 is 11236\n",
      "The square of the odd numner 107 is 11449\n",
      "The square of the even number 108 is 11664\n",
      "The square of the odd numner 109 is 11881\n",
      "The square of the even number 110 is 12100\n",
      "The square of the odd numner 111 is 12321\n",
      "The square of the even number 112 is 12544\n",
      "The square of the odd numner 113 is 12769\n",
      "The square of the even number 114 is 12996\n",
      "The square of the odd numner 115 is 13225\n",
      "The square of the even number 116 is 13456\n",
      "The square of the odd numner 117 is 13689\n",
      "The square of the even number 118 is 13924\n",
      "The square of the odd numner 119 is 14161\n",
      "The square of the even number 120 is 14400\n",
      "The square of the odd numner 121 is 14641\n",
      "The square of the even number 122 is 14884\n",
      "The square of the odd numner 123 is 15129\n",
      "The square of the even number 124 is 15376\n",
      "The square of the odd numner 125 is 15625\n",
      "The square of the even number 126 is 15876\n",
      "The square of the odd numner 127 is 16129\n",
      "The square of the even number 128 is 16384\n",
      "The square of the odd numner 129 is 16641\n",
      "The square of the even number 130 is 16900\n",
      "The square of the odd numner 131 is 17161\n",
      "The square of the even number 132 is 17424\n",
      "The square of the odd numner 133 is 17689\n",
      "The square of the even number 134 is 17956\n",
      "The square of the odd numner 135 is 18225\n",
      "The square of the even number 136 is 18496\n",
      "The square of the odd numner 137 is 18769\n",
      "The square of the even number 138 is 19044\n",
      "The square of the odd numner 139 is 19321\n",
      "The square of the even number 140 is 19600\n",
      "The square of the odd numner 141 is 19881\n",
      "The square of the even number 142 is 20164\n",
      "The square of the odd numner 143 is 20449\n",
      "The square of the even number 144 is 20736\n",
      "The square of the odd numner 145 is 21025\n",
      "The square of the even number 146 is 21316\n",
      "The square of the odd numner 147 is 21609\n",
      "The square of the even number 148 is 21904\n",
      "The square of the odd numner 149 is 22201\n",
      "The square of the even number 150 is 22500\n",
      "The square of the odd numner 151 is 22801\n",
      "The square of the even number 152 is 23104\n",
      "The square of the odd numner 153 is 23409\n",
      "The square of the even number 154 is 23716\n",
      "The square of the odd numner 155 is 24025\n",
      "The square of the even number 156 is 24336\n",
      "The square of the odd numner 157 is 24649\n",
      "The square of the even number 158 is 24964\n",
      "The square of the odd numner 159 is 25281\n",
      "The square of the even number 160 is 25600\n",
      "The square of the odd numner 161 is 25921\n",
      "The square of the even number 162 is 26244\n",
      "The square of the odd numner 163 is 26569\n",
      "The square of the even number 164 is 26896\n",
      "The square of the odd numner 165 is 27225\n",
      "The square of the even number 166 is 27556\n",
      "The square of the odd numner 167 is 27889\n",
      "The square of the even number 168 is 28224\n",
      "The square of the odd numner 169 is 28561\n",
      "The square of the even number 170 is 28900\n",
      "The square of the odd numner 171 is 29241\n",
      "The square of the even number 172 is 29584\n",
      "The square of the odd numner 173 is 29929\n",
      "The square of the even number 174 is 30276\n",
      "The square of the odd numner 175 is 30625\n",
      "The square of the even number 176 is 30976\n",
      "The square of the odd numner 177 is 31329\n",
      "The square of the even number 178 is 31684\n",
      "The square of the odd numner 179 is 32041\n",
      "The square of the even number 180 is 32400\n",
      "The square of the odd numner 181 is 32761\n",
      "The square of the even number 182 is 33124\n",
      "The square of the odd numner 183 is 33489\n",
      "The square of the even number 184 is 33856\n",
      "The square of the odd numner 185 is 34225\n",
      "The square of the even number 186 is 34596\n",
      "The square of the odd numner 187 is 34969\n",
      "The square of the even number 188 is 35344\n",
      "The square of the odd numner 189 is 35721\n",
      "The square of the even number 190 is 36100\n",
      "The square of the odd numner 191 is 36481\n",
      "The square of the even number 192 is 36864\n",
      "The square of the odd numner 193 is 37249\n",
      "The square of the even number 194 is 37636\n",
      "The square of the odd numner 195 is 38025\n",
      "The square of the even number 196 is 38416\n",
      "The square of the odd numner 197 is 38809\n",
      "The square of the even number 198 is 39204\n",
      "The square of the odd numner 199 is 39601\n",
      "The square of the even number 200 is 40000\n"
     ]
    }
   ],
   "source": [
    "for number in range(100,201):\n",
    "    square= number**2\n",
    "    if number%2==0:\n",
    "        print(f\"The square of the even number {number} is {square}\" )\n",
    "    else:\n",
    "        print(f\"The square of the odd numner {number} is {square}\")"
   ]
  },
  {
   "cell_type": "markdown",
   "id": "e770c3df-fd79-4c5f-be7c-b4f3eaec3ce6",
   "metadata": {},
   "source": [
    "Exercise 4: Word counter\n",
    "\r\n",
    "write a program to count the number of words in a given text.\r\n"
   ]
  },
  {
   "cell_type": "code",
   "execution_count": 6,
   "id": "feb72a11-5084-417b-a040-f77051f07920",
   "metadata": {},
   "outputs": [
    {
     "name": "stdout",
     "output_type": "stream",
     "text": [
      "The number of words in the given text is: 4\n"
     ]
    }
   ],
   "source": [
    "text=\"I love my country\"\n",
    "def count_words(text):\n",
    "    words=text.split()\n",
    "    return len(words)\n",
    "word_count=count_words(text)\n",
    "print(f\"The number of words in the given text is: {word_count}\")"
   ]
  },
  {
   "cell_type": "markdown",
   "id": "b2172b56-3632-4c27-a21f-53a862d89c8f",
   "metadata": {},
   "source": [
    "Exercise 5: Check for Palindrome\n",
    "\n",
    "Write a Python function called is_palindrome that takes a string as input and returns True if the string is a palindrome, and False otherwise. A palindrome is a word, phrase, number, or other sequence of characters that reads the same forward and backward, ignoring spaces, punctuation, and capitalization.\n"
   ]
  },
  {
   "cell_type": "code",
   "execution_count": 10,
   "id": "67dfc896-68ed-4c81-b014-84168655688b",
   "metadata": {},
   "outputs": [
    {
     "name": "stdout",
     "output_type": "stream",
     "text": [
      "True\n",
      "True\n",
      "False\n",
      "True\n"
     ]
    }
   ],
   "source": [
    "import re\n",
    "def is_palindrome(s):\n",
    "    cleaned=re.sub(r'[^A-Za-z0-9]','',s).lower()\n",
    "    return cleaned==cleaned[::-1]\n",
    "print(is_palindrome(\"A man, a plan, a canal, Panama\"))  \n",
    "print(is_palindrome(\"racecar\"))  \n",
    "print(is_palindrome(\"hello\"))  \n",
    "print(is_palindrome(\"No 'x' in Nixon\"))     "
   ]
  },
  {
   "cell_type": "code",
   "execution_count": null,
   "id": "46e67d0a-3657-408f-84f5-30e18e209588",
   "metadata": {},
   "outputs": [],
   "source": []
  }
 ],
 "metadata": {
  "kernelspec": {
   "display_name": "Python 3 (ipykernel)",
   "language": "python",
   "name": "python3"
  },
  "language_info": {
   "codemirror_mode": {
    "name": "ipython",
    "version": 3
   },
   "file_extension": ".py",
   "mimetype": "text/x-python",
   "name": "python",
   "nbconvert_exporter": "python",
   "pygments_lexer": "ipython3",
   "version": "3.11.7"
  }
 },
 "nbformat": 4,
 "nbformat_minor": 5
}
